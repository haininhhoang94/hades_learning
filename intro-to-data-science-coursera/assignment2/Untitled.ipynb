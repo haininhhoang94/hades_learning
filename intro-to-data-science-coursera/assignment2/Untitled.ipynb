{
 "cells": [
  {
   "cell_type": "markdown",
   "id": "f890fe2a",
   "metadata": {},
   "source": [
    "# Assignment 2\n",
    "#\n",
    "For this assignment you'll be looking at 2017 data on immunizations from the CDC. Your datafile for this assignment is in [assets/NISPUF17.csv](assets/NISPUF17.csv). A data users guide for this, which you'll need to map the variables in the data to the questions being asked, is available at [assets/NIS-PUF17-DUG.pdf](assets/NIS-PUF17-DUG.pdf). **Note: you may have to go to your Jupyter tree (click on the Coursera image) and navigate to the assignment 2 assets folder to see this PDF file).**"
   ]
  },
  {
   "cell_type": "markdown",
   "id": "fc820c84",
   "metadata": {},
   "source": [
    "## Question 1\n",
    "Write a function called `proportion_of_education` which returns the proportion of children in the dataset who had a mother with the education levels equal to less than high school (<12), high school (12), more than high school but not a college graduate (>12) and college degree.\n",
    "#\n",
    "*This function should return a dictionary in the form of (use the correct numbers, do not round numbers):*\n",
    "```\n",
    "    {\"less than high school\":0.2,\n",
    "    \"high school\":0.4,\n",
    "    \"more than high school but not college\":0.2,\n",
    "    \"college\":0.2}\n",
    "```"
   ]
  },
  {
   "cell_type": "code",
   "execution_count": null,
   "id": "55b8a9a3",
   "metadata": {},
   "outputs": [],
   "source": [
    "# Library\n",
    "import pandas as pd\n",
    "import numpy as np\n",
    "import scipy.stats as stats"
   ]
  },
  {
   "cell_type": "code",
   "execution_count": null,
   "id": "35e0f54e",
   "metadata": {},
   "outputs": [],
   "source": [
    "# Load the data first\n",
    "NISPUF17_dataset = pd.read_csv(\"./assets/NISPUF17.csv\")\n",
    "NISPUF17_dataset.drop([\"Unnamed: 0\"], axis=1, inplace=True)\n",
    "NISPUF17_dataset"
   ]
  },
  {
   "cell_type": "code",
   "execution_count": null,
   "id": "1a1600ab",
   "metadata": {},
   "outputs": [],
   "source": [
    "# Since we doesn't have the columns definition, thus we will define the columns by the following dictionary\n",
    "col_for_NISPIF17 = np.array(NISPUF17_dataset.columns)\n",
    "np.shape(col_for_NISPIF17)"
   ]
  },
  {
   "cell_type": "markdown",
   "id": "58246a83",
   "metadata": {},
   "source": [
    "For question 1, the question only invovle:\n",
    "- Children has mother with edu level either <,>,=12, >12 but not from a college graduate, and college\n",
    "- By references of the Page 42 from the PDF, we know that the EDUC1 is the columns we need, thus\n",
    "and it is category by 4 type:\n",
    "    * <12\n",
    "    * 12\n",
    "    * More than 12 and not college\n",
    "    * College"
   ]
  },
  {
   "cell_type": "code",
   "execution_count": null,
   "id": "26ca28ab",
   "metadata": {},
   "outputs": [],
   "source": [
    "# Let's focus on our columns\n",
    "education_type_of_mother = NISPUF17_dataset[\"EDUC1\"]\n",
    "education_type_of_mother.head()"
   ]
  },
  {
   "cell_type": "code",
   "execution_count": null,
   "id": "1aebaa4f",
   "metadata": {},
   "outputs": [],
   "source": [
    "# Let's do some statistic calculation here to exploring our columns\n",
    "# Count unique number in the education type columns\n",
    "education_type_of_mother.nunique(dropna=False)\n",
    "# this also indicate that there are no N/A value!"
   ]
  },
  {
   "cell_type": "code",
   "execution_count": null,
   "id": "31522b51",
   "metadata": {},
   "outputs": [],
   "source": [
    "# See which unique values are contained in this series\n",
    "education_type_of_mother.unique()"
   ]
  },
  {
   "cell_type": "markdown",
   "id": "f53b7ba7",
   "metadata": {},
   "source": [
    "As we can see here, there are 4 data types in this series, thus let's define the values\n",
    "- 1: < 12\n",
    "- 2: 12\n",
    "- 3: > 12, not a college graduate\n",
    "- 4: College graduate"
   ]
  },
  {
   "cell_type": "code",
   "execution_count": null,
   "id": "5f2edd85",
   "metadata": {},
   "outputs": [],
   "source": [
    "def proportion_of_education():\n",
    "    import pandas as pd\n",
    "    import numpy as np\n",
    "\n",
    "    df = pd.read_csv(\"./assets/NISPUF17.csv\")\n",
    "    df.drop([\"Unnamed: 0\"], axis=1, inplace=True)\n",
    "\n",
    "    # Let's focus on our columns\n",
    "    education_type_of_mother = df[\"EDUC1\"]\n",
    "\n",
    "    # we need a dictionary here, which contain 4 results:\n",
    "    # less than high school: a\n",
    "    # high school: b\n",
    "    # more than high school but not college: c\n",
    "    # college d\n",
    "    a = (\n",
    "        len(education_type_of_mother[1 == education_type_of_mother])\n",
    "        / education_type_of_mother.count()\n",
    "    )\n",
    "    b = (\n",
    "        len(education_type_of_mother[2 == education_type_of_mother])\n",
    "        / education_type_of_mother.count()\n",
    "    )\n",
    "    c = (\n",
    "        len(education_type_of_mother[3 == education_type_of_mother])\n",
    "        / education_type_of_mother.count()\n",
    "    )\n",
    "    d = (\n",
    "        len(education_type_of_mother[4 == education_type_of_mother])\n",
    "        / education_type_of_mother.count()\n",
    "    )\n",
    "\n",
    "    return {\n",
    "        \"less than high school\": a,\n",
    "        \"high school\": b,\n",
    "        \"more than high school but not college\": c,\n",
    "        \"college\": d,\n",
    "    }\n",
    "\n",
    "\n",
    "proportion_of_education()"
   ]
  },
  {
   "cell_type": "code",
   "execution_count": null,
   "id": "b9b15a29",
   "metadata": {},
   "outputs": [],
   "source": [
    "assert type(proportion_of_education()) == type({}), \"You must return a dictionary.\"\n",
    "assert (\n",
    "    len(proportion_of_education()) == 4\n",
    "), \"You have not returned a dictionary with four items in it.\"\n",
    "assert (\n",
    "    \"less than high school\" in proportion_of_education().keys()\n",
    "), \"You have not returned a dictionary with the correct keys.\"\n",
    "assert (\n",
    "    \"high school\" in proportion_of_education().keys()\n",
    "), \"You have not returned a dictionary with the correct keys.\"\n",
    "assert (\n",
    "    \"more than high school but not college\" in proportion_of_education().keys()\n",
    "), \"You have not returned a dictionary with the correct keys.\"\n",
    "assert (\n",
    "    \"college\" in proportion_of_education().keys()\n",
    "), \"You have not returned a dictionary with the correct keys.\""
   ]
  },
  {
   "cell_type": "markdown",
   "id": "069f91a0",
   "metadata": {},
   "source": [
    "## Question 2\n",
    "\n",
    "Let's explore the relationship between being fed breastmilk as a child and getting a seasonal influenza vaccine from a healthcare provider. Return a tuple of the average number of influenza vaccines for those children we know received breastmilk as a child and those who know did not.\n",
    "*This function should return a tuple in the form (use the correct numbers):*\n",
    "```\n",
    "(2.5, 0.1)\n",
    "```"
   ]
  },
  {
   "cell_type": "markdown",
   "id": "05bf9373",
   "metadata": {},
   "source": [
    "In here, since our interest is based on if the child is:\n",
    "- Breastfeed or not (CBF-01)\n",
    "- The number of influenza vaccines (DH1N...)\n",
    "- The average of the number of influenza vaccines"
   ]
  },
  {
   "cell_type": "code",
   "execution_count": null,
   "id": "adddad39",
   "metadata": {},
   "outputs": [],
   "source": [
    "# Let's explore each variable:\n",
    "# 1. Breastfeed\n",
    "breastfeed = NISPUF17_dataset[\"CBF_01\"]\n",
    "# Analyze this data first\n",
    "breastfeed.unique()"
   ]
  },
  {
   "cell_type": "markdown",
   "id": "a1ebab63",
   "metadata": {},
   "source": [
    "As we can see here, the data contains some entries that doesn't fit with out category, 77 and 99\n",
    "Thus:"
   ]
  },
  {
   "cell_type": "code",
   "execution_count": null,
   "id": "583c6379",
   "metadata": {},
   "outputs": [],
   "source": [
    "# breastfeed[breastfeed <= 2].unique()\n",
    "breastfeed = NISPUF17_dataset[NISPUF17_dataset[\"CBF_01\"] <= 2][\"CBF_01\"]\n",
    "breastfeed"
   ]
  },
  {
   "cell_type": "code",
   "execution_count": null,
   "id": "bdc0337d",
   "metadata": {},
   "outputs": [],
   "source": [
    "# Convert to boolean\n",
    "# breastfeed = breastfeed.replace(1, 0)\n",
    "# breastfeed = breastfeed.astype(bool)\n",
    "# Take sum for total number of children that have breastfeed\n",
    "# breastfeed_sum = breastfeed.sum()\n",
    "breastfeed_sum = np.shape(breastfeed[breastfeed == 2])[0]\n",
    "no_breastfeed_sum = np.shape(breastfeed[breastfeed == 1])[0]\n",
    "print([breastfeed_sum, no_breastfeed_sum])\n",
    "\n",
    "# The number of influenza vaccines, which is the following series\n",
    "# Find the FL(mark for influenza vaccine in dataframe, and see which columns contain it)\n",
    "# test = (NISPUF17_dataset == \"FL\").any(axis=0)\n",
    "# NISPUF17_dataset.columns[test]"
   ]
  },
  {
   "cell_type": "code",
   "execution_count": null,
   "id": "6d8902b4",
   "metadata": {},
   "outputs": [],
   "source": [
    "# As we can see here, there are 5 columns contain it, which is:\n",
    "# 'XFLUTY1', 'XFLUTY2', 'XFLUTY3', 'XFLUTY4', 'XFLUTY5'....\n",
    "# Based on the PDF references, it is describe as:\n",
    "# SEASONAL FLU-CONTAINING VACCINATION #1 TYPE CODE\n",
    "# Let's explore that columns\n",
    "NISPUF17_dataset[\"XFLUTY1\"]\n",
    "# So we can safely say that there is 9 entries that can contain a baby vaccine type\n",
    "# and it is Seasonal"
   ]
  },
  {
   "cell_type": "code",
   "execution_count": null,
   "id": "8d8025ff",
   "metadata": {},
   "outputs": [],
   "source": [
    "# Since the question only concern of the average for children who breastfeed or not,\n",
    "# let's count the number of FL that breastfeed=True\n",
    "total_influenza = (NISPUF17_dataset == \"FL\").sum().sum()\n",
    "# split the count by filter the data and take sum\n",
    "breastfeed_influenza = (NISPUF17_dataset.set_index(\"CBF_01\").loc[2] == \"FL\").sum().sum()\n",
    "no_breastfeed_influenza = (\n",
    "    (NISPUF17_dataset.set_index(\"CBF_01\").loc[1] == \"FL\").sum().sum()\n",
    ")\n",
    "\n",
    "print([total_influenza, breastfeed_influenza, no_breastfeed_influenza])"
   ]
  },
  {
   "cell_type": "code",
   "execution_count": 1,
   "id": "f6fd47b0",
   "metadata": {},
   "outputs": [
    {
     "data": {
      "text/plain": [
       "(1.5963945918878317, 1.8799187420058687)"
      ]
     },
     "execution_count": 1,
     "metadata": {},
     "output_type": "execute_result"
    }
   ],
   "source": [
    "def average_influenza_doses():\n",
    "    import pandas as pd\n",
    "    import numpy as np\n",
    "\n",
    "    # Load the data first\n",
    "    df = pd.read_csv(\"./assets/NISPUF17.csv\")\n",
    "    df.drop([\"Unnamed: 0\"], axis=1, inplace=True)\n",
    "\n",
    "    # Let's do it\n",
    "    total = df[df[\"CBF_01\"] <= 2]\n",
    "    breastfeed = total[total[\"CBF_01\"] == 2]\n",
    "    no_breastfeed = total[total[\"CBF_01\"] == 1]\n",
    "\n",
    "    # NOTE:using mean to calculate average\n",
    "    return (no_breastfeed[\"P_NUMFLU\"].mean(), breastfeed[\"P_NUMFLU\"].mean())\n",
    "\n",
    "\n",
    "average_influenza_doses()"
   ]
  },
  {
   "cell_type": "code",
   "execution_count": null,
   "id": "b49c64b7",
   "metadata": {},
   "outputs": [],
   "source": [
    "assert (\n",
    "    len(average_influenza_doses()) == 2\n",
    "), \"Return two values in a tuple, the first for yes and the second for no.\""
   ]
  },
  {
   "cell_type": "markdown",
   "id": "b9142ee3",
   "metadata": {},
   "source": [
    "## Question 3\n",
    "It would be interesting to see if there is any evidence of a link between vaccine effectiveness and sex of the child. Calculate the ratio of the number of children who contracted chickenpox but were vaccinated against it (at least one varicella dose) versus those who were vaccinated but did not contract chicken pox. Return results by sex.\n",
    "#\n",
    "*This function should return a dictionary in the form of (use the correct numbers):*\n",
    "```\n",
    "    {\"male\":0.2,\n",
    "    \"female\":0.4}\n",
    "```\n",
    "#\n",
    "Note: To aid in verification, the `chickenpox_by_sex()['female']` value the autograder is looking for starts with the digits `0.0077`."
   ]
  },
  {
   "cell_type": "code",
   "execution_count": null,
   "id": "d499517a",
   "metadata": {},
   "outputs": [],
   "source": [
    "def chickenpox_by_sex():\n",
    "    # There are two variable involve:\n",
    "    # - (varicella doses) [P_NUMVRC], which return a total number. we only need to see if the child is being vaccinated or not, thus if not = 0 or not N/A\n",
    "    # - have chickpox? [HAD_CPOX], and 1 is yes, 2 is no\n",
    "    # - Sex [SEX], 1 is male, 2 is female\n",
    "    # Return the ratio of (children vaccinated but contracted chickpox / vaccinated and not contract chickpox)\n",
    "    import pandas as pd\n",
    "\n",
    "    NISPUF17_dataset = pd.read_csv(\"./assets/NISPUF17.csv\")\n",
    "    NISPUF17_dataset.drop([\"Unnamed: 0\"], axis=1, inplace=True)\n",
    "\n",
    "    male = NISPUF17_dataset.loc[(NISPUF17_dataset[\"SEX\"] == 1)].dropna(\n",
    "        subset=\"P_NUMVRC\"\n",
    "    )\n",
    "    female = NISPUF17_dataset.loc[(NISPUF17_dataset[\"SEX\"] == 2)].dropna(\n",
    "        subset=\"P_NUMVRC\"\n",
    "    )\n",
    "\n",
    "    # for male\n",
    "    male_varicella = male.loc[(male[\"P_NUMVRC\"] != 0)]\n",
    "\n",
    "    male_have_chickbox = len(male_varicella.loc[(male_varicella[\"HAD_CPOX\"] == 1)])\n",
    "    male_no_have_chickbox = len(male_varicella.loc[(male_varicella[\"HAD_CPOX\"] == 2)])\n",
    "\n",
    "    # for female\n",
    "    female_varicella = female.loc[(female[\"P_NUMVRC\"] != 0)]\n",
    "\n",
    "    female_have_chickbox = len(\n",
    "        female_varicella.loc[(female_varicella[\"HAD_CPOX\"] == 1)]\n",
    "    )\n",
    "    female_no_have_chickbox = len(\n",
    "        female_varicella.loc[(female_varicella[\"HAD_CPOX\"] == 2)]\n",
    "    )\n",
    "\n",
    "    return {\n",
    "        \"male\": male_have_chickbox / male_no_have_chickbox,\n",
    "        \"female\": female_have_chickbox / female_no_have_chickbox,\n",
    "    }\n",
    "\n",
    "\n",
    "chickenpox_by_sex()"
   ]
  },
  {
   "cell_type": "code",
   "execution_count": null,
   "id": "31267091",
   "metadata": {},
   "outputs": [],
   "source": [
    "assert (\n",
    "    len(chickenpox_by_sex()) == 2\n",
    "), \"Return a dictionary with two items, the first for males and the second for females.\""
   ]
  },
  {
   "cell_type": "markdown",
   "id": "70a7da82",
   "metadata": {},
   "source": [
    "## Question 4\n",
    "A correlation is a statistical relationship between two variables. If we wanted to know if vaccines work, we might look at the correlation between the use of the vaccine and whether it results in prevention of the infection or disease [1]. In this question, you are to see if there is a correlation between having had the chicken pox and the number of chickenpox vaccine doses given (varicella).\n",
    "#\n",
    "Some notes on interpreting the answer. The `had_chickenpox_column` is either `1` (for yes) or `2` (for no), and the `num_chickenpox_vaccine_column` is the number of doses a child has been given of the varicella vaccine. A positive correlation (e.g., `corr > 0`) means that an increase in `had_chickenpox_column` (which means more no’s) would also increase the values of `num_chickenpox_vaccine_column` (which means more doses of vaccine). If there is a negative correlation (e.g., `corr < 0`), it indicates that having had chickenpox is related to an increase in the number of vaccine doses.\n",
    "#\n",
    "Also, `pval` is the probability that we observe a correlation between `had_chickenpox_column` and `num_chickenpox_vaccine_column` which is greater than or equal to a particular value occurred by chance. A small `pval` means that the observed correlation is highly unlikely to occur by chance. In this case, `pval` should be very small (will end in `e-18` indicating a very small number).\n",
    "#\n",
    "[1] This isn’t really the full picture, since we are not looking at when the dose was given. It’s possible that children had chickenpox and then their parents went to get them the vaccine. Does this dataset have the data we would need to investigate the timing of the dose?"
   ]
  },
  {
   "cell_type": "code",
   "execution_count": null,
   "id": "eb79c779",
   "metadata": {},
   "outputs": [],
   "source": [
    "def corr_chickenpox():\n",
    "    import scipy.stats as stats\n",
    "    import numpy as np\n",
    "    import pandas as pd\n",
    "\n",
    "    df = pd.read_csv(\"./assets/NISPUF17.csv\")\n",
    "    # Filter more data\n",
    "    df = df[df[\"HAD_CPOX\"] <= 2]\n",
    "    df = df.dropna(subset=[\"HAD_CPOX\", \"P_NUMVRC\"])\n",
    "\n",
    "    had_chickenpox = df[\"HAD_CPOX\"]\n",
    "    num_chickenpox_vaccine = df[\"P_NUMVRC\"]\n",
    "\n",
    "    # here is some stub code to actually run the correlation\n",
    "    corr, pval = stats.pearsonr(had_chickenpox, num_chickenpox_vaccine)\n",
    "\n",
    "    return corr\n",
    "\n",
    "\n",
    "corr_chickenpox()"
   ]
  },
  {
   "cell_type": "code",
   "execution_count": null,
   "id": "f7eea915",
   "metadata": {},
   "outputs": [],
   "source": [
    "assert (\n",
    "    -1 <= corr_chickenpox() <= 1\n",
    "), \"You must return a float number between -1.0 and 1.0.\""
   ]
  }
 ],
 "metadata": {
  "kernelspec": {
   "display_name": "Python 3 (ipykernel)",
   "language": "python",
   "name": "python3"
  },
  "language_info": {
   "codemirror_mode": {
    "name": "ipython",
    "version": 3
   },
   "file_extension": ".py",
   "mimetype": "text/x-python",
   "name": "python",
   "nbconvert_exporter": "python",
   "pygments_lexer": "ipython3",
   "version": "3.10.10"
  }
 },
 "nbformat": 4,
 "nbformat_minor": 5
}
